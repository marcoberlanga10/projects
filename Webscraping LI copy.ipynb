{
 "cells": [
  {
   "cell_type": "markdown",
   "metadata": {},
   "source": [
    "### Code by Marco Berlanga \n",
    "See my LinkedIn in:\n",
    "\n",
    "https://www.linkedin.com/in/marcoberlanga/\n",
    "\n",
    "August 7, 2023"
   ]
  },
  {
   "cell_type": "markdown",
   "metadata": {},
   "source": [
    "#### During one class in my university a professor once said that if you are going to apply to 70 jobs you are going to need 70 different CV's (A situation which I hope I never find myself in) and then explained that this is because each  company or employer is looking for specific qualifications for a candidate which are described in the body of a job posting which I am going to be extracting with Beuatiful Soup to be able to save as a text to then iterate through it to find key words for example I am currently looking to apply in a data related job so I will be looking for key words like SQL, Python, R, Tableau, etc. If these are found in the text, the code will display in the end text written by me that describes my experience and / or qualitifactions in that exact word or skill. \n",
    "\n",
    "#### Even if you are applying for only 5 jobs, the task of reading all 5 postings and writing 5 times your qualifications depending on what the employer is looking for this can become tedious, I realized this and decided to webscrape this part of the job posting to have a solid base to make the different CV's and do the MINIMAL manual interaction in this task"
   ]
  },
  {
   "cell_type": "code",
   "execution_count": 2,
   "metadata": {},
   "outputs": [],
   "source": [
    "#Importing relevant libraries for the task\n",
    "\n",
    "import requests\n",
    "from bs4 import BeautifulSoup\n",
    "import re\n",
    "import textwrap"
   ]
  },
  {
   "cell_type": "code",
   "execution_count": 3,
   "metadata": {},
   "outputs": [],
   "source": [
    "#The most important part and the only part that requires mandatory manual interaction when using it, and it is to just change the URL to ANY job posting in LinkedIn\n",
    "\n",
    "url = 'https://www.linkedin.com/jobs/view/3674634477/?alternateChannel=search&refId=yk%2Bis%2BDyvVJ9ZWuhVFkyEg%3D%3D&trackingId=4mWnvAwqLOQfArfzTbKgUQ%3D%3D&trk=d_flagship3_search_srp_jobs'"
   ]
  },
  {
   "cell_type": "code",
   "execution_count": 4,
   "metadata": {},
   "outputs": [],
   "source": [
    "#Getting the text of the URL with requests\n",
    "\n",
    "data  = requests.get(url).text"
   ]
  },
  {
   "cell_type": "code",
   "execution_count": 5,
   "metadata": {},
   "outputs": [],
   "source": [
    "#Using Beautiful Soup\n",
    "\n",
    "soup = BeautifulSoup(data, 'html.parser')"
   ]
  },
  {
   "cell_type": "markdown",
   "metadata": {},
   "source": [
    "Important:"
   ]
  },
  {
   "cell_type": "code",
   "execution_count": 6,
   "metadata": {},
   "outputs": [],
   "source": [
    "#This specific tag div and specific class which is below, is the same for ALL job posts, does not require modification at all\n",
    "\n",
    "jobdes = soup.find('div', class_ = 'show-more-less-html__markup show-more-less-html__markup--clamp-after-5 relative overflow-hidden')"
   ]
  },
  {
   "cell_type": "code",
   "execution_count": 18,
   "metadata": {},
   "outputs": [
    {
     "name": "stdout",
     "output_type": "stream",
     "text": [
      "<div class=\"show-more-less-html__markup show-more-less-html__markup--clamp-after-5 relative overflow-hidden\">\n",
      "<p>Verisure is seeking talented and passionate <strong>Group Marketing interns </strong>to make a tangible positive impact.</p><p>Verisure is a leading provider of professionally monitored security solutions. We trade as Verisure in most of the countries where we operate, and as Securitas Direct in Spain and Portugal - we are proud to have this strong portfolio of brands. The company has more than 4 million customers in 16 countries across Europe and Latin America and we are currently TOP 3 Best employer in Spain.</p><p>In this position you will have the opportunity of working in both acquisition &amp; portfolio Marketing, potentially across 17 countries, hand in hand with an extraordinary global team. </p><p>This role is a great opportunity for candidates interested in gaining a strong strategic perspective on Marketing, while also having the opportunity of getting hands-on experience in project implementation.</p><p><strong>What we offer: </strong></p><ul><li>Paid internship with a full-time schedule and flexibility.</li><li>Hybrid model. Work from home and at our great Madrid offices in Pozuelo de Alarcón.</li><li>Holiday/Vacation entitlement</li><li>Lunch provided on site with diverse &amp; healthy food options</li><li>A minimum term of 6 months with the potential to extend to an additional 6 months.</li><li>The position will be based in <strong>Madrid</strong> (Spain)</li></ul><p>Our internship opportunities are incredibly successful with a high retention rate and the potential to join us on a permanent basis. Verisure will offer you:</p><ul><li>Dynamic and vibrant environment. Our office is an open-plan space in which you will be able to interact with the best professional from different teams at all levels.</li><li>International and talented Marketing team with cross-functional backgrounds (ad agencies, tech &amp; data companies, consulting firms), making it a great learning experience</li><li>Projects with a global scale, which can entail both a strategic and/or operational role, making it a fantastic development experience</li><li>High responsibility and strong exposure to stakeholders, enabling candidates to develop hard &amp; soft skills</li><li>Opportunities to grow and develop quickly and transversally depending on experience, skills, performance and ambition, leading – ideally - to a full-time position</li></ul><p><strong>Responsibilities:</strong></p><p>The Group Marketing team, has several subteams. As a Group Marketing intern, your day to day will be within one of the subteams with distinct responsibilities depicted below:</p><ul><li><strong>Consumer Insights Intern</strong></li><li>Support Consumer research design phase (questionnaire design, sample recruitment, etc)</li><li>Own data treatment &amp; analysis in selected consumer research projects</li><li>Support analysis of results to deliver insights with a data driven attitude but also with high empathy for the people / consumers behaviours behind the numbers</li><li>Own preparation of the insights learnings materials with a specific focus on data accuracy as well as delivering learnings in a simple, inspiring, and convincing way</li><li>Facilitate sharing of existing and new learnings with fast response, “excellence of service” attitude to all stakeholders interested in bringing consumer insights to their decision making</li></ul><p><strong>Candidate profile</strong></p><p>The role will be a great fit for someone who is:</p><ul><li><strong>Fluent in written and spoken English </strong>(other languages are a plus: Spanish, German, Italian, French)</li><li>Strong analytical &amp; efficient problem-solving skills</li><li>Strong interpersonal skills, with written and oral communication capabilities - ability to build relationships and work effectively with people at all levels in an organization</li><li>Impact-oriented with a strong hands-on approach</li><li>Structured, detail oriented, and capable of understanding the big picture</li><li>Specifically for Marketing intelligence &amp; Marketing contact center</li><li>Bachelor’s degree in Engineering, Mathematics, Statistics or Physics</li><li>High knowledge about SQL</li><li>Basic knowledge of other programming languages (Python)</li></ul><p><strong>Our winning DNA</strong></p><p><strong>Everything we do is driven by our DNA. Our DNA has enabled us to grow at a double-digit pace for many years and is setting us up to continue this journey. </strong></p><ul><li>Passionate in Everything We Do: Our people have a sense of energy that is unmistakable, one that drives us to delight our customers and focus on creating impact quickly.</li><li>Committed to Making a Difference: When we say we will do something; we deliver with excellence. We are accountable, focused and operate with discipline.</li><li>Always Innovating: We believe that Innovation can be big or small; it’s a continuous state of mind that inspires us to think differently and always make things better. We are risk takers and we learn continuously.</li><li>Winning as a Team: Our people know that by leveraging one another’s strengths, investing in and developing our team’s capability and by collaborating well, we will win.</li><li>With Trust &amp; Responsibility: Operating with integrity is core to our success. We are humble, honest and value deep mastery and expertise. We do the right thing, always.</li></ul>\n",
      "</div>\n"
     ]
    }
   ],
   "source": [
    "#Make sure that it was extracted correctly\n",
    "\n",
    "print(jobdes)"
   ]
  },
  {
   "cell_type": "code",
   "execution_count": 8,
   "metadata": {},
   "outputs": [],
   "source": [
    "#Turn it into text\n",
    "\n",
    "textjobdes = jobdes.text"
   ]
  },
  {
   "cell_type": "code",
   "execution_count": 9,
   "metadata": {},
   "outputs": [
    {
     "data": {
      "text/plain": [
       "'\\nVerisure is seeking talented and passionate Group Marketing interns to make a tangible positive impact.Verisure is a leading provider of professionally monitored security solutions. We trade as Verisure in most of the countries where we operate, and as Securitas Direct in Spain and Portugal - we are proud to have this strong portfolio of brands. The company has more than 4 million customers in 16 countries across Europe and Latin America and we are currently TOP 3 Best employer in Spain.In this position you will have the opportunity of working in both acquisition & portfolio Marketing, potentially across 17 countries, hand in hand with an extraordinary global team. This role is a great opportunity for candidates interested in gaining a strong strategic perspective on Marketing, while also having the opportunity of getting hands-on experience in project implementation.What we offer: Paid internship with a full-time schedule and flexibility.Hybrid model. Work from home and at our great Madrid offices in Pozuelo de Alarcón.Holiday/Vacation entitlementLunch provided on site with diverse & healthy food optionsA minimum term of 6 months with the potential to extend to an additional 6 months.The position will be based in Madrid (Spain)Our internship opportunities are incredibly successful with a high retention rate and the potential to join us on a permanent basis. Verisure will offer you:Dynamic and vibrant environment. Our office is an open-plan space in which you will be able to interact with the best professional from different teams at all levels.International and talented Marketing team with cross-functional backgrounds (ad agencies, tech & data companies, consulting firms), making it a great learning experienceProjects with a global scale, which can entail both a strategic and/or operational role, making it a fantastic development experienceHigh responsibility and strong exposure to stakeholders, enabling candidates to develop hard & soft skillsOpportunities to grow and develop quickly and transversally depending on experience, skills, performance and ambition, leading – ideally - to a full-time positionResponsibilities:The Group Marketing team, has several subteams. As a Group Marketing intern, your day to day will be within one of the subteams with distinct responsibilities depicted below:Consumer Insights InternSupport Consumer research design phase (questionnaire design, sample recruitment, etc)Own data treatment & analysis in selected consumer research projectsSupport analysis of results to deliver insights with a data driven attitude but also with high empathy for the people / consumers behaviours behind the numbersOwn preparation of the insights learnings materials with a specific focus on data accuracy as well as delivering learnings in a simple, inspiring, and convincing wayFacilitate sharing of existing and new learnings with fast response, “excellence of service” attitude to all stakeholders interested in bringing consumer insights to their decision makingCandidate profileThe role will be a great fit for someone who is:Fluent in written and spoken English (other languages are a plus: Spanish, German, Italian, French)Strong analytical & efficient problem-solving skillsStrong interpersonal skills, with written and oral communication capabilities - ability to build relationships and work effectively with people at all levels in an organizationImpact-oriented with a strong hands-on approachStructured, detail oriented, and capable of understanding the big pictureSpecifically for Marketing intelligence & Marketing contact centerBachelor’s degree in Engineering, Mathematics, Statistics or PhysicsHigh knowledge about SQLBasic knowledge of other programming languages (Python)Our winning DNAEverything we do is driven by our DNA. Our DNA has enabled us to grow at a double-digit pace for many years and is setting us up to continue this journey. Passionate in Everything We Do: Our people have a sense of energy that is unmistakable, one that drives us to delight our customers and focus on creating impact quickly.Committed to Making a Difference: When we say we will do something; we deliver with excellence. We are accountable, focused and operate with discipline.Always Innovating: We believe that Innovation can be big or small; it’s a continuous state of mind that inspires us to think differently and always make things better. We are risk takers and we learn continuously.Winning as a Team: Our people know that by leveraging one another’s strengths, investing in and developing our team’s capability and by collaborating well, we will win.With Trust & Responsibility: Operating with integrity is core to our success. We are humble, honest and value deep mastery and expertise. We do the right thing, always.\\n'"
      ]
     },
     "execution_count": 9,
     "metadata": {},
     "output_type": "execute_result"
    }
   ],
   "source": [
    "#Make sure it is correct again\n",
    "\n",
    "textjobdes"
   ]
  },
  {
   "cell_type": "code",
   "execution_count": 10,
   "metadata": {},
   "outputs": [
    {
     "name": "stdout",
     "output_type": "stream",
     "text": [
      " Verisure is seeking talented and passionate Group Marketing interns\n",
      "to make a tangible positive impact.Verisure is a leading provider of\n",
      "professionally monitored security solutions. We trade as Verisure in\n",
      "most of the countries where we operate, and as Securitas Direct in\n",
      "Spain and Portugal - we are proud to have this strong portfolio of\n",
      "brands. The company has more than 4 million customers in 16 countries\n",
      "across Europe and Latin America and we are currently TOP 3 Best\n",
      "employer in Spain.In this position you will have the opportunity of\n",
      "working in both acquisition & portfolio Marketing, potentially across\n",
      "17 countries, hand in hand with an extraordinary global team. This\n",
      "role is a great opportunity for candidates interested in gaining a\n",
      "strong strategic perspective on Marketing, while also having the\n",
      "opportunity of getting hands-on experience in project\n",
      "implementation.What we offer: Paid internship with a full-time\n",
      "schedule and flexibility.Hybrid model. Work from home and at our great\n",
      "Madrid offices in Pozuelo de Alarcón.Holiday/Vacation entitlementLunch\n",
      "provided on site with diverse & healthy food optionsA minimum term of\n",
      "6 months with the potential to extend to an additional 6 months.The\n",
      "position will be based in Madrid (Spain)Our internship opportunities\n",
      "are incredibly successful with a high retention rate and the potential\n",
      "to join us on a permanent basis. Verisure will offer you:Dynamic and\n",
      "vibrant environment. Our office is an open-plan space in which you\n",
      "will be able to interact with the best professional from different\n",
      "teams at all levels.International and talented Marketing team with\n",
      "cross-functional backgrounds (ad agencies, tech & data companies,\n",
      "consulting firms), making it a great learning experienceProjects with\n",
      "a global scale, which can entail both a strategic and/or operational\n",
      "role, making it a fantastic development experienceHigh responsibility\n",
      "and strong exposure to stakeholders, enabling candidates to develop\n",
      "hard & soft skillsOpportunities to grow and develop quickly and\n",
      "transversally depending on experience, skills, performance and\n",
      "ambition, leading – ideally - to a full-time\n",
      "positionResponsibilities:The Group Marketing team, has several\n",
      "subteams. As a Group Marketing intern, your day to day will be within\n",
      "one of the subteams with distinct responsibilities depicted\n",
      "below:Consumer Insights InternSupport Consumer research design phase\n",
      "(questionnaire design, sample recruitment, etc)Own data treatment &\n",
      "analysis in selected consumer research projectsSupport analysis of\n",
      "results to deliver insights with a data driven attitude but also with\n",
      "high empathy for the people / consumers behaviours behind the\n",
      "numbersOwn preparation of the insights learnings materials with a\n",
      "specific focus on data accuracy as well as delivering learnings in a\n",
      "simple, inspiring, and convincing wayFacilitate sharing of existing\n",
      "and new learnings with fast response, “excellence of service” attitude\n",
      "to all stakeholders interested in bringing consumer insights to their\n",
      "decision makingCandidate profileThe role will be a great fit for\n",
      "someone who is:Fluent in written and spoken English (other languages\n",
      "are a plus: Spanish, German, Italian, French)Strong analytical &\n",
      "efficient problem-solving skillsStrong interpersonal skills, with\n",
      "written and oral communication capabilities - ability to build\n",
      "relationships and work effectively with people at all levels in an\n",
      "organizationImpact-oriented with a strong hands-on approachStructured,\n",
      "detail oriented, and capable of understanding the big\n",
      "pictureSpecifically for Marketing intelligence & Marketing contact\n",
      "centerBachelor’s degree in Engineering, Mathematics, Statistics or\n",
      "PhysicsHigh knowledge about SQLBasic knowledge of other programming\n",
      "languages (Python)Our winning DNAEverything we do is driven by our\n",
      "DNA. Our DNA has enabled us to grow at a double-digit pace for many\n",
      "years and is setting us up to continue this journey. Passionate in\n",
      "Everything We Do: Our people have a sense of energy that is\n",
      "unmistakable, one that drives us to delight our customers and focus on\n",
      "creating impact quickly.Committed to Making a Difference: When we say\n",
      "we will do something; we deliver with excellence. We are accountable,\n",
      "focused and operate with discipline.Always Innovating: We believe that\n",
      "Innovation can be big or small; it’s a continuous state of mind that\n",
      "inspires us to think differently and always make things better. We are\n",
      "risk takers and we learn continuously.Winning as a Team: Our people\n",
      "know that by leveraging one another’s strengths, investing in and\n",
      "developing our team’s capability and by collaborating well, we will\n",
      "win.With Trust & Responsibility: Operating with integrity is core to\n",
      "our success. We are humble, honest and value deep mastery and\n",
      "expertise. We do the right thing, always.\n"
     ]
    }
   ],
   "source": [
    "#Some code just to have a better format, and to be able to look better for words in case I would find that necessary. Even if I do decide is necessary to look for words, with the next code I would know which ones are in the job posting and just Control + F those \n",
    "\n",
    "width = 70\n",
    "\n",
    "paragraphs = textwrap.fill(textjobdes, width=width)\n",
    "\n",
    "print(paragraphs)"
   ]
  },
  {
   "cell_type": "code",
   "execution_count": 19,
   "metadata": {},
   "outputs": [
    {
     "name": "stdout",
     "output_type": "stream",
     "text": [
      "Word SQL found\n",
      "Word Excel not found\n",
      "Word Tableau not found\n",
      "Word Python found\n",
      "Word Team Work not found\n",
      "Word Cluster not found\n",
      "Word Analytical not found\n",
      "Word Thinking not found\n",
      "Word PowerBI not found\n",
      "Word R found\n",
      "Word Machine Learning not found\n",
      "Word AI not found\n",
      "Word Dashboard not found\n"
     ]
    }
   ],
   "source": [
    "#To get a general look of the words found in the post, this could be modified to find new ones or to realize what they are looking for, this would help a lot if I decide it is worth it to do some close reading in relation of the words\n",
    "\n",
    "wordstocheck = ['SQL', 'Excel', 'Tableau', 'Python', 'Team Work', 'Cluster', 'Analytical', 'Thinking', 'PowerBI', 'R', 'Machine Learning', 'AI', 'Dashboard']\n",
    "\n",
    "for word in wordstocheck:\n",
    "    if word in paragraphs:\n",
    "        print(f'Word {word} found')\n",
    "    else:\n",
    "        print(f'Word {word} not found')"
   ]
  },
  {
   "cell_type": "code",
   "execution_count": 17,
   "metadata": {},
   "outputs": [
    {
     "name": "stdout",
     "output_type": "stream",
     "text": [
      "- I have done two courses of SQL in Coursera, one offered by IBM and by the University of Colorado Boulder\n",
      "- I have done a lot of self learning of Python during this year, I did two courses in DataCamp, begginer and intermediate Python and also did a course offered by IBM \n",
      " these courses and more self learning let me did this program to detect key words to do an automatic CV\n"
     ]
    }
   ],
   "source": [
    "#In this final part I iterate through the text for all words so that I get what I would just copy and paste into my CV in my Skills section, which is the main part that requires modification between employers\n",
    "\n",
    "if 'SQL' in paragraphs:\n",
    "    print('- I have done two courses of SQL in Coursera, one offered by IBM and by the University of Colorado Boulder')\n",
    "\n",
    "if 'Excel' in paragraphs:\n",
    "    print('- During my internship in Schneider Electric I was able to learn a lot of Excel which I already knew a lot of from my university')\n",
    "\n",
    "if 'Tableau' in paragraphs:\n",
    "    print('- I have decent knowledge of Tableau, during my past internship I did a dashboard for 3 distribution centers')\n",
    "\n",
    "if 'Python' in paragraphs:\n",
    "    print('- I have done a lot of self learning of Python during this year, I did two courses in DataCamp, begginer and intermediate Python and also did a course offered by IBM \\n these courses and more self learning let me did this program to detect key words to do an automatic CV')\n",
    "\n",
    "#Etc. Only for illustrative purposes"
   ]
  },
  {
   "cell_type": "markdown",
   "metadata": {},
   "source": [
    "## Thanks for reading!"
   ]
  }
 ],
 "metadata": {
  "kernelspec": {
   "display_name": "Python 3",
   "language": "python",
   "name": "python3"
  },
  "language_info": {
   "codemirror_mode": {
    "name": "ipython",
    "version": 3
   },
   "file_extension": ".py",
   "mimetype": "text/x-python",
   "name": "python",
   "nbconvert_exporter": "python",
   "pygments_lexer": "ipython3",
   "version": "3.10.4"
  },
  "orig_nbformat": 4
 },
 "nbformat": 4,
 "nbformat_minor": 2
}
